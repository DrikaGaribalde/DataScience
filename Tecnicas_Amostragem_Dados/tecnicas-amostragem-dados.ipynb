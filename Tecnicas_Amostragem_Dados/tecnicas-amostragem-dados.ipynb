{
 "cells": [
  {
   "cell_type": "markdown",
   "metadata": {
    "colab_type": "text",
    "id": "8Fvfh3VPLZ46"
   },
   "source": [
    "### Técnicas de Amostragem de Dados."
   ]
  },
  {
   "cell_type": "markdown",
   "metadata": {
    "colab_type": "text",
    "id": "fb4TGwwVLowj"
   },
   "source": [
    "### Amostragem Aleatória Simples"
   ]
  },
  {
   "cell_type": "markdown",
   "metadata": {
    "colab_type": "text",
    "id": "a1DgcOAqMX3U"
   },
   "source": [
    "Um determinado número de elementos é retirado da população de forma aleatória."
   ]
  },
  {
   "cell_type": "code",
   "execution_count": 4,
   "metadata": {
    "colab": {},
    "colab_type": "code",
    "id": "5I4LBIjeRmwa"
   },
   "outputs": [],
   "source": [
    "import pandas as pd"
   ]
  },
  {
   "cell_type": "markdown",
   "metadata": {
    "colab_type": "text",
    "id": "J0lgzkFAQT3c"
   },
   "source": [
    "Carregando a base de dados."
   ]
  },
  {
   "cell_type": "code",
   "execution_count": 6,
   "metadata": {
    "colab": {},
    "colab_type": "code",
    "id": "RmeJs1p2fFf4"
   },
   "outputs": [],
   "source": [
    "df = pd.read_csv(\"covid19.csv\")"
   ]
  },
  {
   "cell_type": "code",
   "execution_count": 11,
   "metadata": {
    "colab": {},
    "colab_type": "code",
    "id": "Gz2FIqJsfG7e"
   },
   "outputs": [
    {
     "name": "stdout",
     "output_type": "stream",
     "text": [
      "<class 'pandas.core.frame.DataFrame'>\n",
      "RangeIndex: 50982 entries, 0 to 50981\n",
      "Data columns (total 12 columns):\n",
      "case_id               0 non-null float64\n",
      "provincial_case_id    50982 non-null int64\n",
      "age                   50982 non-null object\n",
      "sex                   50982 non-null object\n",
      "health_region         50982 non-null object\n",
      "province              50982 non-null object\n",
      "country               50982 non-null object\n",
      "date_report           50982 non-null object\n",
      "report_week           50982 non-null object\n",
      "has_travel_history    1150 non-null object\n",
      "locally_acquired      574 non-null object\n",
      "case_source           50982 non-null object\n",
      "dtypes: float64(1), int64(1), object(10)\n",
      "memory usage: 4.7+ MB\n"
     ]
    }
   ],
   "source": [
    "df.info()"
   ]
  },
  {
   "cell_type": "code",
   "execution_count": 8,
   "metadata": {
    "colab": {},
    "colab_type": "code",
    "id": "Ik94jNFrmThx"
   },
   "outputs": [
    {
     "data": {
      "text/html": [
       "<div>\n",
       "<style scoped>\n",
       "    .dataframe tbody tr th:only-of-type {\n",
       "        vertical-align: middle;\n",
       "    }\n",
       "\n",
       "    .dataframe tbody tr th {\n",
       "        vertical-align: top;\n",
       "    }\n",
       "\n",
       "    .dataframe thead th {\n",
       "        text-align: right;\n",
       "    }\n",
       "</style>\n",
       "<table border=\"1\" class=\"dataframe\">\n",
       "  <thead>\n",
       "    <tr style=\"text-align: right;\">\n",
       "      <th></th>\n",
       "      <th>case_id</th>\n",
       "      <th>provincial_case_id</th>\n",
       "      <th>age</th>\n",
       "      <th>sex</th>\n",
       "      <th>health_region</th>\n",
       "      <th>province</th>\n",
       "      <th>country</th>\n",
       "      <th>date_report</th>\n",
       "      <th>report_week</th>\n",
       "      <th>has_travel_history</th>\n",
       "      <th>locally_acquired</th>\n",
       "      <th>case_source</th>\n",
       "    </tr>\n",
       "  </thead>\n",
       "  <tbody>\n",
       "    <tr>\n",
       "      <th>0</th>\n",
       "      <td>NaN</td>\n",
       "      <td>1</td>\n",
       "      <td>50-59</td>\n",
       "      <td>Male</td>\n",
       "      <td>Toronto</td>\n",
       "      <td>Ontario</td>\n",
       "      <td>Canada</td>\n",
       "      <td>2020-01-25</td>\n",
       "      <td>2020-01-19</td>\n",
       "      <td>t</td>\n",
       "      <td>NaN</td>\n",
       "      <td>(1) https://news.ontario.ca/mohltc/en/2020/01/...</td>\n",
       "    </tr>\n",
       "    <tr>\n",
       "      <th>1</th>\n",
       "      <td>NaN</td>\n",
       "      <td>2</td>\n",
       "      <td>50-59</td>\n",
       "      <td>Female</td>\n",
       "      <td>Toronto</td>\n",
       "      <td>Ontario</td>\n",
       "      <td>Canada</td>\n",
       "      <td>2020-01-27</td>\n",
       "      <td>2020-01-26</td>\n",
       "      <td>t</td>\n",
       "      <td>NaN</td>\n",
       "      <td>(1) https://news.ontario.ca/mohltc/en/2020/01/...</td>\n",
       "    </tr>\n",
       "    <tr>\n",
       "      <th>2</th>\n",
       "      <td>NaN</td>\n",
       "      <td>1</td>\n",
       "      <td>40-49</td>\n",
       "      <td>Male</td>\n",
       "      <td>Vancouver Coastal</td>\n",
       "      <td>BC</td>\n",
       "      <td>Canada</td>\n",
       "      <td>2020-01-28</td>\n",
       "      <td>2020-01-26</td>\n",
       "      <td>t</td>\n",
       "      <td>NaN</td>\n",
       "      <td>https://news.gov.bc.ca/releases/2020HLTH0015-0...</td>\n",
       "    </tr>\n",
       "    <tr>\n",
       "      <th>3</th>\n",
       "      <td>NaN</td>\n",
       "      <td>3</td>\n",
       "      <td>20-29</td>\n",
       "      <td>Female</td>\n",
       "      <td>Middlesex-London</td>\n",
       "      <td>Ontario</td>\n",
       "      <td>Canada</td>\n",
       "      <td>2020-01-31</td>\n",
       "      <td>2020-01-26</td>\n",
       "      <td>t</td>\n",
       "      <td>NaN</td>\n",
       "      <td>(1) https://news.ontario.ca/mohltc/en/2020/01/...</td>\n",
       "    </tr>\n",
       "    <tr>\n",
       "      <th>4</th>\n",
       "      <td>NaN</td>\n",
       "      <td>2</td>\n",
       "      <td>50-59</td>\n",
       "      <td>Female</td>\n",
       "      <td>Vancouver Coastal</td>\n",
       "      <td>BC</td>\n",
       "      <td>Canada</td>\n",
       "      <td>2020-02-04</td>\n",
       "      <td>2020-02-02</td>\n",
       "      <td>f</td>\n",
       "      <td>Close Contact</td>\n",
       "      <td>https://news.gov.bc.ca/releases/2020HLTH0023-0...</td>\n",
       "    </tr>\n",
       "  </tbody>\n",
       "</table>\n",
       "</div>"
      ],
      "text/plain": [
       "   case_id  provincial_case_id    age     sex      health_region province  \\\n",
       "0      NaN                   1  50-59    Male            Toronto  Ontario   \n",
       "1      NaN                   2  50-59  Female            Toronto  Ontario   \n",
       "2      NaN                   1  40-49    Male  Vancouver Coastal       BC   \n",
       "3      NaN                   3  20-29  Female   Middlesex-London  Ontario   \n",
       "4      NaN                   2  50-59  Female  Vancouver Coastal       BC   \n",
       "\n",
       "  country date_report report_week has_travel_history locally_acquired  \\\n",
       "0  Canada  2020-01-25  2020-01-19                  t              NaN   \n",
       "1  Canada  2020-01-27  2020-01-26                  t              NaN   \n",
       "2  Canada  2020-01-28  2020-01-26                  t              NaN   \n",
       "3  Canada  2020-01-31  2020-01-26                  t              NaN   \n",
       "4  Canada  2020-02-04  2020-02-02                  f    Close Contact   \n",
       "\n",
       "                                         case_source  \n",
       "0  (1) https://news.ontario.ca/mohltc/en/2020/01/...  \n",
       "1  (1) https://news.ontario.ca/mohltc/en/2020/01/...  \n",
       "2  https://news.gov.bc.ca/releases/2020HLTH0015-0...  \n",
       "3  (1) https://news.ontario.ca/mohltc/en/2020/01/...  \n",
       "4  https://news.gov.bc.ca/releases/2020HLTH0023-0...  "
      ]
     },
     "execution_count": 8,
     "metadata": {},
     "output_type": "execute_result"
    }
   ],
   "source": [
    "df.head()"
   ]
  },
  {
   "cell_type": "markdown",
   "metadata": {
    "colab_type": "text",
    "id": "z-G07fdhSXF5"
   },
   "source": [
    "Criando uma amostra com apenas 1000 registros a partir do conjunto de dados.\n"
   ]
  },
  {
   "cell_type": "code",
   "execution_count": 13,
   "metadata": {
    "colab": {},
    "colab_type": "code",
    "id": "BFs7XrThmdKC"
   },
   "outputs": [],
   "source": [
    "df_sample = df.sample(n = 1000)"
   ]
  },
  {
   "cell_type": "code",
   "execution_count": 14,
   "metadata": {
    "colab": {},
    "colab_type": "code",
    "id": "GQ5gvUeWmra3"
   },
   "outputs": [
    {
     "name": "stdout",
     "output_type": "stream",
     "text": [
      "<class 'pandas.core.frame.DataFrame'>\n",
      "Int64Index: 1000 entries, 48471 to 15468\n",
      "Data columns (total 12 columns):\n",
      "case_id               0 non-null float64\n",
      "provincial_case_id    1000 non-null int64\n",
      "age                   1000 non-null object\n",
      "sex                   1000 non-null object\n",
      "health_region         1000 non-null object\n",
      "province              1000 non-null object\n",
      "country               1000 non-null object\n",
      "date_report           1000 non-null object\n",
      "report_week           1000 non-null object\n",
      "has_travel_history    31 non-null object\n",
      "locally_acquired      18 non-null object\n",
      "case_source           1000 non-null object\n",
      "dtypes: float64(1), int64(1), object(10)\n",
      "memory usage: 101.6+ KB\n"
     ]
    }
   ],
   "source": [
    "df_sample.info()"
   ]
  },
  {
   "cell_type": "markdown",
   "metadata": {
    "colab_type": "text",
    "id": "vsFaOx8DSpd5"
   },
   "source": [
    "Especificando o tamanho da amostra através do percentual."
   ]
  },
  {
   "cell_type": "code",
   "execution_count": 15,
   "metadata": {
    "colab": {},
    "colab_type": "code",
    "id": "v10yzQ62myO3"
   },
   "outputs": [],
   "source": [
    "df_sample = df.sample(frac=0.10)"
   ]
  },
  {
   "cell_type": "code",
   "execution_count": 16,
   "metadata": {
    "colab": {},
    "colab_type": "code",
    "id": "b3yIx8F4nLZB"
   },
   "outputs": [
    {
     "name": "stdout",
     "output_type": "stream",
     "text": [
      "<class 'pandas.core.frame.DataFrame'>\n",
      "Int64Index: 5098 entries, 15139 to 14714\n",
      "Data columns (total 12 columns):\n",
      "case_id               0 non-null float64\n",
      "provincial_case_id    5098 non-null int64\n",
      "age                   5098 non-null object\n",
      "sex                   5098 non-null object\n",
      "health_region         5098 non-null object\n",
      "province              5098 non-null object\n",
      "country               5098 non-null object\n",
      "date_report           5098 non-null object\n",
      "report_week           5098 non-null object\n",
      "has_travel_history    135 non-null object\n",
      "locally_acquired      72 non-null object\n",
      "case_source           5098 non-null object\n",
      "dtypes: float64(1), int64(1), object(10)\n",
      "memory usage: 517.8+ KB\n"
     ]
    }
   ],
   "source": [
    "df_sample.info()"
   ]
  },
  {
   "cell_type": "markdown",
   "metadata": {
    "colab_type": "text",
    "id": "q8mlpPNlnyKH"
   },
   "source": [
    "### Amostragem Aleatória Estratificada"
   ]
  },
  {
   "cell_type": "markdown",
   "metadata": {
    "colab_type": "text",
    "id": "Cz01uin0kglN"
   },
   "source": [
    "Importando o método train_test_split para fazer a amostragem."
   ]
  },
  {
   "cell_type": "code",
   "execution_count": 17,
   "metadata": {
    "colab": {},
    "colab_type": "code",
    "id": "amb4n4-QnNkm"
   },
   "outputs": [],
   "source": [
    "from sklearn.model_selection import train_test_split"
   ]
  },
  {
   "cell_type": "markdown",
   "metadata": {
    "colab_type": "text",
    "id": "AV5QAucKkp1E"
   },
   "source": [
    "Contagem de registro."
   ]
  },
  {
   "cell_type": "code",
   "execution_count": 19,
   "metadata": {
    "colab": {},
    "colab_type": "code",
    "id": "Ok5wDONA0-0j"
   },
   "outputs": [
    {
     "data": {
      "text/plain": [
       "Quebec           25757\n",
       "Ontario          16337\n",
       "Alberta           4850\n",
       "BC                2053\n",
       "Nova Scotia        915\n",
       "Saskatchewan       366\n",
       "Manitoba           272\n",
       "NL                 258\n",
       "New Brunswick      118\n",
       "PEI                 27\n",
       "Repatriated         13\n",
       "Yukon               11\n",
       "NWT                  5\n",
       "Name: province, dtype: int64"
      ]
     },
     "execution_count": 19,
     "metadata": {},
     "output_type": "execute_result"
    }
   ],
   "source": [
    "df['province'].value_counts() #Contagem de registro"
   ]
  },
  {
   "cell_type": "markdown",
   "metadata": {
    "colab_type": "text",
    "id": "WHXV3ALwkwfL"
   },
   "source": [
    "Gerando a amostragem estratificada."
   ]
  },
  {
   "cell_type": "code",
   "execution_count": 21,
   "metadata": {
    "colab": {},
    "colab_type": "code",
    "id": "XGn5usALoUyQ"
   },
   "outputs": [],
   "source": [
    "X_train, X_test, y_train, y_test = train_test_split(df.drop('province',axis=1),\n",
    "                                                    df['province'],\n",
    "                                                    stratify=df['province'],\n",
    "                                                    test_size=0.20)"
   ]
  },
  {
   "cell_type": "markdown",
   "metadata": {
    "colab_type": "text",
    "id": "_EDqMJx2lOfO"
   },
   "source": [
    "Verificando a forma dos dados."
   ]
  },
  {
   "cell_type": "code",
   "execution_count": 22,
   "metadata": {
    "colab": {},
    "colab_type": "code",
    "id": "dpNu_ePpo-X-"
   },
   "outputs": [
    {
     "data": {
      "text/plain": [
       "(10197,)"
      ]
     },
     "execution_count": 22,
     "metadata": {},
     "output_type": "execute_result"
    }
   ],
   "source": [
    "y_test.shape # 20% do total "
   ]
  },
  {
   "cell_type": "markdown",
   "metadata": {
    "colab_type": "text",
    "id": "qvX0d8bWlRE0"
   },
   "source": [
    "Verificando a contagem de registros."
   ]
  },
  {
   "cell_type": "code",
   "execution_count": 23,
   "metadata": {
    "colab": {},
    "colab_type": "code",
    "id": "WFqfcsEBpH9P"
   },
   "outputs": [
    {
     "data": {
      "text/plain": [
       "Quebec           5152\n",
       "Ontario          3267\n",
       "Alberta           970\n",
       "BC                411\n",
       "Nova Scotia       183\n",
       "Saskatchewan       73\n",
       "Manitoba           54\n",
       "NL                 52\n",
       "New Brunswick      24\n",
       "PEI                 5\n",
       "Repatriated         3\n",
       "Yukon               2\n",
       "NWT                 1\n",
       "Name: province, dtype: int64"
      ]
     },
     "execution_count": 23,
     "metadata": {},
     "output_type": "execute_result"
    }
   ],
   "source": [
    "y_test.value_counts()"
   ]
  },
  {
   "cell_type": "markdown",
   "metadata": {
    "colab_type": "text",
    "id": "HZET77MBrDel"
   },
   "source": [
    "### Amostragem Sistemática"
   ]
  },
  {
   "cell_type": "markdown",
   "metadata": {
    "colab_type": "text",
    "id": "sVwNulpA1LDC"
   },
   "source": [
    "Gerando a semente aleatória"
   ]
  },
  {
   "cell_type": "code",
   "execution_count": 24,
   "metadata": {
    "colab": {},
    "colab_type": "code",
    "id": "abH5IjjqYv1K"
   },
   "outputs": [],
   "source": [
    "import numpy as np"
   ]
  },
  {
   "cell_type": "code",
   "execution_count": 25,
   "metadata": {
    "colab": {},
    "colab_type": "code",
    "id": "REDl5D35rKOD"
   },
   "outputs": [],
   "source": [
    "semente = np.random.choice(10,1) #entre valores de 1 a 10"
   ]
  },
  {
   "cell_type": "code",
   "execution_count": 26,
   "metadata": {
    "colab": {},
    "colab_type": "code",
    "id": "arKzYpmVu-dH"
   },
   "outputs": [
    {
     "data": {
      "text/plain": [
       "array([6])"
      ]
     },
     "execution_count": 26,
     "metadata": {},
     "output_type": "execute_result"
    }
   ],
   "source": [
    "semente"
   ]
  },
  {
   "cell_type": "markdown",
   "metadata": {
    "colab_type": "text",
    "id": "SODPWATH1RAi"
   },
   "source": [
    "Gerando índices a partir da semente."
   ]
  },
  {
   "cell_type": "code",
   "execution_count": 27,
   "metadata": {
    "colab": {},
    "colab_type": "code",
    "id": "MJ6amAD5twXb"
   },
   "outputs": [],
   "source": [
    "indices = np.arange(0,100,semente)"
   ]
  },
  {
   "cell_type": "code",
   "execution_count": 28,
   "metadata": {
    "colab": {},
    "colab_type": "code",
    "id": "RNbqVkWwurcd"
   },
   "outputs": [
    {
     "data": {
      "text/plain": [
       "array([ 0,  6, 12, 18, 24, 30, 36, 42, 48, 54, 60, 66, 72, 78, 84, 90, 96])"
      ]
     },
     "execution_count": 28,
     "metadata": {},
     "output_type": "execute_result"
    }
   ],
   "source": [
    "indices # como a semente foi 6 estamos gerando agora os índices de 6 em 6, depende do valor da semente"
   ]
  },
  {
   "cell_type": "markdown",
   "metadata": {
    "colab_type": "text",
    "id": "urBtlDic1zHp"
   },
   "source": [
    "Gerando a amostra a partir dos índices."
   ]
  },
  {
   "cell_type": "code",
   "execution_count": 32,
   "metadata": {
    "colab": {},
    "colab_type": "code",
    "id": "6o-8NkAxvFm-"
   },
   "outputs": [],
   "source": [
    "amostra = df.loc[indices,:]"
   ]
  },
  {
   "cell_type": "markdown",
   "metadata": {
    "colab_type": "text",
    "id": "b897rARNxxNy"
   },
   "source": [
    "Verificando os dados da amostra."
   ]
  },
  {
   "cell_type": "code",
   "execution_count": 30,
   "metadata": {
    "colab": {},
    "colab_type": "code",
    "id": "SOfeexNVvOdv"
   },
   "outputs": [
    {
     "data": {
      "text/html": [
       "<div>\n",
       "<style scoped>\n",
       "    .dataframe tbody tr th:only-of-type {\n",
       "        vertical-align: middle;\n",
       "    }\n",
       "\n",
       "    .dataframe tbody tr th {\n",
       "        vertical-align: top;\n",
       "    }\n",
       "\n",
       "    .dataframe thead th {\n",
       "        text-align: right;\n",
       "    }\n",
       "</style>\n",
       "<table border=\"1\" class=\"dataframe\">\n",
       "  <thead>\n",
       "    <tr style=\"text-align: right;\">\n",
       "      <th></th>\n",
       "      <th>case_id</th>\n",
       "      <th>provincial_case_id</th>\n",
       "      <th>age</th>\n",
       "      <th>sex</th>\n",
       "      <th>health_region</th>\n",
       "      <th>province</th>\n",
       "      <th>country</th>\n",
       "      <th>date_report</th>\n",
       "      <th>report_week</th>\n",
       "      <th>has_travel_history</th>\n",
       "      <th>locally_acquired</th>\n",
       "      <th>case_source</th>\n",
       "    </tr>\n",
       "  </thead>\n",
       "  <tbody>\n",
       "    <tr>\n",
       "      <th>0</th>\n",
       "      <td>NaN</td>\n",
       "      <td>1</td>\n",
       "      <td>50-59</td>\n",
       "      <td>Male</td>\n",
       "      <td>Toronto</td>\n",
       "      <td>Ontario</td>\n",
       "      <td>Canada</td>\n",
       "      <td>2020-01-25</td>\n",
       "      <td>2020-01-19</td>\n",
       "      <td>t</td>\n",
       "      <td>NaN</td>\n",
       "      <td>(1) https://news.ontario.ca/mohltc/en/2020/01/...</td>\n",
       "    </tr>\n",
       "    <tr>\n",
       "      <th>6</th>\n",
       "      <td>NaN</td>\n",
       "      <td>4</td>\n",
       "      <td>30-39</td>\n",
       "      <td>Female</td>\n",
       "      <td>Vancouver Coastal</td>\n",
       "      <td>BC</td>\n",
       "      <td>Canada</td>\n",
       "      <td>2020-02-06</td>\n",
       "      <td>2020-02-02</td>\n",
       "      <td>t</td>\n",
       "      <td>NaN</td>\n",
       "      <td>https://news.gov.bc.ca/releases/2020HLTH0025-0...</td>\n",
       "    </tr>\n",
       "    <tr>\n",
       "      <th>12</th>\n",
       "      <td>NaN</td>\n",
       "      <td>6</td>\n",
       "      <td>60-69</td>\n",
       "      <td>Male</td>\n",
       "      <td>Toronto</td>\n",
       "      <td>Ontario</td>\n",
       "      <td>Canada</td>\n",
       "      <td>2020-02-27</td>\n",
       "      <td>2020-02-23</td>\n",
       "      <td>f</td>\n",
       "      <td>Close Contact</td>\n",
       "      <td>(1) https://news.ontario.ca/mohltc/en/2020/02/...</td>\n",
       "    </tr>\n",
       "    <tr>\n",
       "      <th>18</th>\n",
       "      <td>NaN</td>\n",
       "      <td>11</td>\n",
       "      <td>60-69</td>\n",
       "      <td>Male</td>\n",
       "      <td>Durham</td>\n",
       "      <td>Ontario</td>\n",
       "      <td>Canada</td>\n",
       "      <td>2020-02-29</td>\n",
       "      <td>2020-02-23</td>\n",
       "      <td>f</td>\n",
       "      <td>Close Contact</td>\n",
       "      <td>https://news.ontario.ca/mohltc/en/2020/02/onta...</td>\n",
       "    </tr>\n",
       "    <tr>\n",
       "      <th>24</th>\n",
       "      <td>NaN</td>\n",
       "      <td>16</td>\n",
       "      <td>60-69</td>\n",
       "      <td>Female</td>\n",
       "      <td>York</td>\n",
       "      <td>Ontario</td>\n",
       "      <td>Canada</td>\n",
       "      <td>2020-03-03</td>\n",
       "      <td>2020-03-01</td>\n",
       "      <td>t</td>\n",
       "      <td>NaN</td>\n",
       "      <td>https://toronto.ctvnews.ca/three-new-cases-of-...</td>\n",
       "    </tr>\n",
       "    <tr>\n",
       "      <th>30</th>\n",
       "      <td>NaN</td>\n",
       "      <td>10</td>\n",
       "      <td>60-69</td>\n",
       "      <td>Male</td>\n",
       "      <td>Vancouver Coastal</td>\n",
       "      <td>BC</td>\n",
       "      <td>Canada</td>\n",
       "      <td>2020-03-03</td>\n",
       "      <td>2020-03-01</td>\n",
       "      <td>t</td>\n",
       "      <td>NaN</td>\n",
       "      <td>https://news.gov.bc.ca/releases/2020HLTH0058-0...</td>\n",
       "    </tr>\n",
       "    <tr>\n",
       "      <th>36</th>\n",
       "      <td>NaN</td>\n",
       "      <td>22</td>\n",
       "      <td>60-69</td>\n",
       "      <td>Male</td>\n",
       "      <td>Toronto</td>\n",
       "      <td>Ontario</td>\n",
       "      <td>Canada</td>\n",
       "      <td>2020-03-05</td>\n",
       "      <td>2020-03-01</td>\n",
       "      <td>t</td>\n",
       "      <td>NaN</td>\n",
       "      <td>https://news.ontario.ca/mohltc/en/2020/03/onta...</td>\n",
       "    </tr>\n",
       "    <tr>\n",
       "      <th>42</th>\n",
       "      <td>NaN</td>\n",
       "      <td>18</td>\n",
       "      <td>50-59</td>\n",
       "      <td>Female</td>\n",
       "      <td>Vancouver Coastal</td>\n",
       "      <td>BC</td>\n",
       "      <td>Canada</td>\n",
       "      <td>2020-03-05</td>\n",
       "      <td>2020-03-01</td>\n",
       "      <td>t</td>\n",
       "      <td>NaN</td>\n",
       "      <td>https://news.gov.bc.ca/releases/2020HLTH0062-0...</td>\n",
       "    </tr>\n",
       "    <tr>\n",
       "      <th>48</th>\n",
       "      <td>NaN</td>\n",
       "      <td>25</td>\n",
       "      <td>50-59</td>\n",
       "      <td>Male</td>\n",
       "      <td>Toronto</td>\n",
       "      <td>Ontario</td>\n",
       "      <td>Canada</td>\n",
       "      <td>2020-03-06</td>\n",
       "      <td>2020-03-01</td>\n",
       "      <td>t</td>\n",
       "      <td>NaN</td>\n",
       "      <td>https://news.ontario.ca/mohltc/en/2020/03/onta...</td>\n",
       "    </tr>\n",
       "    <tr>\n",
       "      <th>54</th>\n",
       "      <td>NaN</td>\n",
       "      <td>22</td>\n",
       "      <td>50-59</td>\n",
       "      <td>Male</td>\n",
       "      <td>Fraser</td>\n",
       "      <td>BC</td>\n",
       "      <td>Canada</td>\n",
       "      <td>2020-03-07</td>\n",
       "      <td>2020-03-01</td>\n",
       "      <td>t</td>\n",
       "      <td>NaN</td>\n",
       "      <td>https://news.gov.bc.ca/releases/2020HLTH0064-0...</td>\n",
       "    </tr>\n",
       "    <tr>\n",
       "      <th>60</th>\n",
       "      <td>NaN</td>\n",
       "      <td>29</td>\n",
       "      <td>40-49</td>\n",
       "      <td>Female</td>\n",
       "      <td>Toronto</td>\n",
       "      <td>Ontario</td>\n",
       "      <td>Canada</td>\n",
       "      <td>2020-03-08</td>\n",
       "      <td>2020-03-08</td>\n",
       "      <td>t</td>\n",
       "      <td>NaN</td>\n",
       "      <td>https://news.ontario.ca/mohltc/en/2020/03/onta...</td>\n",
       "    </tr>\n",
       "    <tr>\n",
       "      <th>66</th>\n",
       "      <td>NaN</td>\n",
       "      <td>32</td>\n",
       "      <td>50-59</td>\n",
       "      <td>Male</td>\n",
       "      <td>Peel</td>\n",
       "      <td>Ontario</td>\n",
       "      <td>Canada</td>\n",
       "      <td>2020-03-08</td>\n",
       "      <td>2020-03-08</td>\n",
       "      <td>t</td>\n",
       "      <td>NaN</td>\n",
       "      <td>https://peelregion.ca/news/archiveitem.asp?yea...</td>\n",
       "    </tr>\n",
       "    <tr>\n",
       "      <th>72</th>\n",
       "      <td>NaN</td>\n",
       "      <td>31</td>\n",
       "      <td>50-59</td>\n",
       "      <td>Female</td>\n",
       "      <td>Vancouver Coastal</td>\n",
       "      <td>BC</td>\n",
       "      <td>Canada</td>\n",
       "      <td>2020-03-09</td>\n",
       "      <td>2020-03-08</td>\n",
       "      <td>t</td>\n",
       "      <td>NaN</td>\n",
       "      <td>https://news.gov.bc.ca/releases/2020HLTH0068-0...</td>\n",
       "    </tr>\n",
       "    <tr>\n",
       "      <th>78</th>\n",
       "      <td>NaN</td>\n",
       "      <td>5</td>\n",
       "      <td>Not Reported</td>\n",
       "      <td>Male</td>\n",
       "      <td>Montréal</td>\n",
       "      <td>Quebec</td>\n",
       "      <td>Canada</td>\n",
       "      <td>2020-03-09</td>\n",
       "      <td>2020-03-08</td>\n",
       "      <td>t</td>\n",
       "      <td>NaN</td>\n",
       "      <td>https://www.msss.gouv.qc.ca/ministere/salle-de...</td>\n",
       "    </tr>\n",
       "    <tr>\n",
       "      <th>84</th>\n",
       "      <td>NaN</td>\n",
       "      <td>12</td>\n",
       "      <td>30-39</td>\n",
       "      <td>Female</td>\n",
       "      <td>Calgary</td>\n",
       "      <td>Alberta</td>\n",
       "      <td>Canada</td>\n",
       "      <td>2020-03-09</td>\n",
       "      <td>2020-03-08</td>\n",
       "      <td>t</td>\n",
       "      <td>NaN</td>\n",
       "      <td>https://www.alberta.ca/release.cfm?xID=68785BC...</td>\n",
       "    </tr>\n",
       "    <tr>\n",
       "      <th>90</th>\n",
       "      <td>NaN</td>\n",
       "      <td>36</td>\n",
       "      <td>90-99</td>\n",
       "      <td>Male</td>\n",
       "      <td>Vancouver Coastal</td>\n",
       "      <td>BC</td>\n",
       "      <td>Canada</td>\n",
       "      <td>2020-03-10</td>\n",
       "      <td>2020-03-08</td>\n",
       "      <td>t</td>\n",
       "      <td>NaN</td>\n",
       "      <td>https://news.gov.bc.ca/releases/2020HLTH0072-0...</td>\n",
       "    </tr>\n",
       "    <tr>\n",
       "      <th>96</th>\n",
       "      <td>NaN</td>\n",
       "      <td>39</td>\n",
       "      <td>30-39</td>\n",
       "      <td>Male</td>\n",
       "      <td>Toronto</td>\n",
       "      <td>Ontario</td>\n",
       "      <td>Canada</td>\n",
       "      <td>2020-03-11</td>\n",
       "      <td>2020-03-08</td>\n",
       "      <td>t</td>\n",
       "      <td>NaN</td>\n",
       "      <td>https://www.ontario.ca/page/2019-novel-coronav...</td>\n",
       "    </tr>\n",
       "  </tbody>\n",
       "</table>\n",
       "</div>"
      ],
      "text/plain": [
       "    case_id  provincial_case_id           age     sex      health_region  \\\n",
       "0       NaN                   1         50-59    Male            Toronto   \n",
       "6       NaN                   4         30-39  Female  Vancouver Coastal   \n",
       "12      NaN                   6         60-69    Male            Toronto   \n",
       "18      NaN                  11         60-69    Male             Durham   \n",
       "24      NaN                  16         60-69  Female               York   \n",
       "30      NaN                  10         60-69    Male  Vancouver Coastal   \n",
       "36      NaN                  22         60-69    Male            Toronto   \n",
       "42      NaN                  18         50-59  Female  Vancouver Coastal   \n",
       "48      NaN                  25         50-59    Male            Toronto   \n",
       "54      NaN                  22         50-59    Male             Fraser   \n",
       "60      NaN                  29         40-49  Female            Toronto   \n",
       "66      NaN                  32         50-59    Male               Peel   \n",
       "72      NaN                  31         50-59  Female  Vancouver Coastal   \n",
       "78      NaN                   5  Not Reported    Male           Montréal   \n",
       "84      NaN                  12         30-39  Female            Calgary   \n",
       "90      NaN                  36         90-99    Male  Vancouver Coastal   \n",
       "96      NaN                  39         30-39    Male            Toronto   \n",
       "\n",
       "   province country date_report report_week has_travel_history  \\\n",
       "0   Ontario  Canada  2020-01-25  2020-01-19                  t   \n",
       "6        BC  Canada  2020-02-06  2020-02-02                  t   \n",
       "12  Ontario  Canada  2020-02-27  2020-02-23                  f   \n",
       "18  Ontario  Canada  2020-02-29  2020-02-23                  f   \n",
       "24  Ontario  Canada  2020-03-03  2020-03-01                  t   \n",
       "30       BC  Canada  2020-03-03  2020-03-01                  t   \n",
       "36  Ontario  Canada  2020-03-05  2020-03-01                  t   \n",
       "42       BC  Canada  2020-03-05  2020-03-01                  t   \n",
       "48  Ontario  Canada  2020-03-06  2020-03-01                  t   \n",
       "54       BC  Canada  2020-03-07  2020-03-01                  t   \n",
       "60  Ontario  Canada  2020-03-08  2020-03-08                  t   \n",
       "66  Ontario  Canada  2020-03-08  2020-03-08                  t   \n",
       "72       BC  Canada  2020-03-09  2020-03-08                  t   \n",
       "78   Quebec  Canada  2020-03-09  2020-03-08                  t   \n",
       "84  Alberta  Canada  2020-03-09  2020-03-08                  t   \n",
       "90       BC  Canada  2020-03-10  2020-03-08                  t   \n",
       "96  Ontario  Canada  2020-03-11  2020-03-08                  t   \n",
       "\n",
       "   locally_acquired                                        case_source  \n",
       "0               NaN  (1) https://news.ontario.ca/mohltc/en/2020/01/...  \n",
       "6               NaN  https://news.gov.bc.ca/releases/2020HLTH0025-0...  \n",
       "12    Close Contact  (1) https://news.ontario.ca/mohltc/en/2020/02/...  \n",
       "18    Close Contact  https://news.ontario.ca/mohltc/en/2020/02/onta...  \n",
       "24              NaN  https://toronto.ctvnews.ca/three-new-cases-of-...  \n",
       "30              NaN  https://news.gov.bc.ca/releases/2020HLTH0058-0...  \n",
       "36              NaN  https://news.ontario.ca/mohltc/en/2020/03/onta...  \n",
       "42              NaN  https://news.gov.bc.ca/releases/2020HLTH0062-0...  \n",
       "48              NaN  https://news.ontario.ca/mohltc/en/2020/03/onta...  \n",
       "54              NaN  https://news.gov.bc.ca/releases/2020HLTH0064-0...  \n",
       "60              NaN  https://news.ontario.ca/mohltc/en/2020/03/onta...  \n",
       "66              NaN  https://peelregion.ca/news/archiveitem.asp?yea...  \n",
       "72              NaN  https://news.gov.bc.ca/releases/2020HLTH0068-0...  \n",
       "78              NaN  https://www.msss.gouv.qc.ca/ministere/salle-de...  \n",
       "84              NaN  https://www.alberta.ca/release.cfm?xID=68785BC...  \n",
       "90              NaN  https://news.gov.bc.ca/releases/2020HLTH0072-0...  \n",
       "96              NaN  https://www.ontario.ca/page/2019-novel-coronav...  "
      ]
     },
     "execution_count": 30,
     "metadata": {},
     "output_type": "execute_result"
    }
   ],
   "source": [
    "amostra #mostrando os meus índices"
   ]
  },
  {
   "cell_type": "markdown",
   "metadata": {
    "colab_type": "text",
    "id": "rUk2j6CdyDz4"
   },
   "source": [
    "Contagem de registros."
   ]
  },
  {
   "cell_type": "code",
   "execution_count": 31,
   "metadata": {
    "colab": {},
    "colab_type": "code",
    "id": "ux5w4Nc_fAMM"
   },
   "outputs": [
    {
     "name": "stdout",
     "output_type": "stream",
     "text": [
      "<class 'pandas.core.frame.DataFrame'>\n",
      "Int64Index: 17 entries, 0 to 96\n",
      "Data columns (total 12 columns):\n",
      "case_id               0 non-null float64\n",
      "provincial_case_id    17 non-null int64\n",
      "age                   17 non-null object\n",
      "sex                   17 non-null object\n",
      "health_region         17 non-null object\n",
      "province              17 non-null object\n",
      "country               17 non-null object\n",
      "date_report           17 non-null object\n",
      "report_week           17 non-null object\n",
      "has_travel_history    17 non-null object\n",
      "locally_acquired      2 non-null object\n",
      "case_source           17 non-null object\n",
      "dtypes: float64(1), int64(1), object(10)\n",
      "memory usage: 1.7+ KB\n"
     ]
    }
   ],
   "source": [
    "amostra.info() #17 registros"
   ]
  },
  {
   "cell_type": "code",
   "execution_count": null,
   "metadata": {},
   "outputs": [],
   "source": []
  }
 ],
 "metadata": {
  "colab": {
   "collapsed_sections": [],
   "name": "Técnicas-Amostragem-Dados-Python.ipynb",
   "provenance": []
  },
  "kernelspec": {
   "display_name": "Python 3",
   "language": "python",
   "name": "python3"
  },
  "language_info": {
   "codemirror_mode": {
    "name": "ipython",
    "version": 3
   },
   "file_extension": ".py",
   "mimetype": "text/x-python",
   "name": "python",
   "nbconvert_exporter": "python",
   "pygments_lexer": "ipython3",
   "version": "3.6.5"
  }
 },
 "nbformat": 4,
 "nbformat_minor": 1
}
